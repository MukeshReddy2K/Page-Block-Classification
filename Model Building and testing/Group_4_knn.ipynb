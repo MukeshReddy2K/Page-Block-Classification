{
 "cells": [
  {
   "cell_type": "markdown",
   "id": "92050f0e",
   "metadata": {},
   "source": [
    "## KNN model \n",
    "\n",
    "## Importing libraries"
   ]
  },
  {
   "cell_type": "code",
   "execution_count": 1,
   "id": "3f1f9474",
   "metadata": {},
   "outputs": [],
   "source": [
    "import numpy as np\n",
    "import pandas as pd\n",
    "import matplotlib.pyplot as plt\n",
    "\n",
    "import seaborn as sns\n",
    "from sklearn.model_selection import train_test_split, cross_val_score, KFold, GridSearchCV, RandomizedSearchCV\n",
    "from mlxtend.plotting import plot_decision_regions\n",
    "from sklearn.neighbors import KNeighborsClassifier\n",
    "from sklearn.metrics import confusion_matrix, classification_report, accuracy_score\n",
    "from sklearn.metrics import mean_absolute_error, mean_squared_error, r2_score, make_scorer, f1_score\n",
    "from sklearn.preprocessing import MinMaxScaler\n",
    "from imblearn.over_sampling import RandomOverSampler\n",
    "from imblearn.under_sampling import RandomUnderSampler\n",
    "from sklearn.preprocessing import StandardScaler\n",
    "import warnings\n",
    "warnings.filterwarnings('ignore')"
   ]
  },
  {
   "cell_type": "markdown",
   "id": "21215da0",
   "metadata": {},
   "source": [
    "Reading the data"
   ]
  },
  {
   "cell_type": "code",
   "execution_count": 2,
   "id": "13ba67b8",
   "metadata": {},
   "outputs": [
    {
     "data": {
      "text/html": [
       "<div>\n",
       "<style scoped>\n",
       "    .dataframe tbody tr th:only-of-type {\n",
       "        vertical-align: middle;\n",
       "    }\n",
       "\n",
       "    .dataframe tbody tr th {\n",
       "        vertical-align: top;\n",
       "    }\n",
       "\n",
       "    .dataframe thead th {\n",
       "        text-align: right;\n",
       "    }\n",
       "</style>\n",
       "<table border=\"1\" class=\"dataframe\">\n",
       "  <thead>\n",
       "    <tr style=\"text-align: right;\">\n",
       "      <th></th>\n",
       "      <th>height</th>\n",
       "      <th>length</th>\n",
       "      <th>area</th>\n",
       "      <th>eccen</th>\n",
       "      <th>p_black</th>\n",
       "      <th>p_and</th>\n",
       "      <th>mean_tr</th>\n",
       "      <th>blackpix</th>\n",
       "      <th>blackand</th>\n",
       "      <th>wb_trans</th>\n",
       "      <th>y</th>\n",
       "    </tr>\n",
       "  </thead>\n",
       "  <tbody>\n",
       "    <tr>\n",
       "      <th>0</th>\n",
       "      <td>5.0</td>\n",
       "      <td>7</td>\n",
       "      <td>35</td>\n",
       "      <td>1.400</td>\n",
       "      <td>0.400</td>\n",
       "      <td>0.657</td>\n",
       "      <td>2.33</td>\n",
       "      <td>14</td>\n",
       "      <td>23.0</td>\n",
       "      <td>6.0</td>\n",
       "      <td>1</td>\n",
       "    </tr>\n",
       "    <tr>\n",
       "      <th>1</th>\n",
       "      <td>6.0</td>\n",
       "      <td>7</td>\n",
       "      <td>42</td>\n",
       "      <td>1.167</td>\n",
       "      <td>0.429</td>\n",
       "      <td>0.881</td>\n",
       "      <td>3.60</td>\n",
       "      <td>18</td>\n",
       "      <td>37.0</td>\n",
       "      <td>5.0</td>\n",
       "      <td>1</td>\n",
       "    </tr>\n",
       "    <tr>\n",
       "      <th>2</th>\n",
       "      <td>6.0</td>\n",
       "      <td>18</td>\n",
       "      <td>108</td>\n",
       "      <td>3.000</td>\n",
       "      <td>0.287</td>\n",
       "      <td>0.741</td>\n",
       "      <td>4.43</td>\n",
       "      <td>31</td>\n",
       "      <td>80.0</td>\n",
       "      <td>7.0</td>\n",
       "      <td>1</td>\n",
       "    </tr>\n",
       "    <tr>\n",
       "      <th>3</th>\n",
       "      <td>5.0</td>\n",
       "      <td>7</td>\n",
       "      <td>35</td>\n",
       "      <td>1.400</td>\n",
       "      <td>0.371</td>\n",
       "      <td>0.743</td>\n",
       "      <td>4.33</td>\n",
       "      <td>13</td>\n",
       "      <td>26.0</td>\n",
       "      <td>3.0</td>\n",
       "      <td>1</td>\n",
       "    </tr>\n",
       "    <tr>\n",
       "      <th>4</th>\n",
       "      <td>6.0</td>\n",
       "      <td>3</td>\n",
       "      <td>18</td>\n",
       "      <td>0.500</td>\n",
       "      <td>0.500</td>\n",
       "      <td>0.944</td>\n",
       "      <td>2.25</td>\n",
       "      <td>9</td>\n",
       "      <td>17.0</td>\n",
       "      <td>4.0</td>\n",
       "      <td>1</td>\n",
       "    </tr>\n",
       "  </tbody>\n",
       "</table>\n",
       "</div>"
      ],
      "text/plain": [
       "   height  length  area  eccen  p_black  p_and  mean_tr  blackpix  blackand  \\\n",
       "0     5.0       7    35  1.400    0.400  0.657     2.33        14      23.0   \n",
       "1     6.0       7    42  1.167    0.429  0.881     3.60        18      37.0   \n",
       "2     6.0      18   108  3.000    0.287  0.741     4.43        31      80.0   \n",
       "3     5.0       7    35  1.400    0.371  0.743     4.33        13      26.0   \n",
       "4     6.0       3    18  0.500    0.500  0.944     2.25         9      17.0   \n",
       "\n",
       "   wb_trans  y  \n",
       "0       6.0  1  \n",
       "1       5.0  1  \n",
       "2       7.0  1  \n",
       "3       3.0  1  \n",
       "4       4.0  1  "
      ]
     },
     "execution_count": 2,
     "metadata": {},
     "output_type": "execute_result"
    }
   ],
   "source": [
    "df=pd.read_csv(\"Group_4_data_cleaned.csv\",index_col=0)\n",
    "df.head()"
   ]
  },
  {
   "cell_type": "code",
   "execution_count": 3,
   "id": "c102d82a",
   "metadata": {},
   "outputs": [
    {
     "name": "stdout",
     "output_type": "stream",
     "text": [
      "            height       length         area        eccen      p_black  \\\n",
      "count  5473.000000  5473.000000  5473.000000  5473.000000  5473.000000   \n",
      "mean      8.491778    75.944089   678.280833     9.422260     0.355031   \n",
      "std       2.958167    77.844052   760.273682     9.661801     0.139284   \n",
      "min       2.500000     1.000000     7.000000     0.007000     0.052000   \n",
      "25%       7.000000    17.000000   114.000000     2.143000     0.261000   \n",
      "50%       8.000000    41.000000   322.000000     5.167000     0.337000   \n",
      "75%      10.000000   107.000000   980.000000    13.625000     0.426000   \n",
      "max      14.500000   242.000000  2279.000000    30.848000     0.673500   \n",
      "\n",
      "             p_and      mean_tr     blackpix     blackand     wb_trans  \\\n",
      "count  5473.000000  5473.000000  5473.000000  5473.000000  5473.000000   \n",
      "mean      0.786324     2.578667   198.322310   492.037365    86.901242   \n",
      "std       0.166482     1.310313   208.242346   532.593288    92.165275   \n",
      "min       0.307000     1.000000     7.000000     7.000000     1.000000   \n",
      "25%       0.679000     1.610000    42.000000    95.000000    17.000000   \n",
      "50%       0.803000     2.070000   108.000000   250.000000    49.000000   \n",
      "75%       0.927000     3.000000   284.000000   718.000000   126.000000   \n",
      "max       1.000000     5.085000   647.000000  1652.500000   289.500000   \n",
      "\n",
      "                 y  \n",
      "count  5473.000000  \n",
      "mean      1.202631  \n",
      "std       0.721470  \n",
      "min       1.000000  \n",
      "25%       1.000000  \n",
      "50%       1.000000  \n",
      "75%       1.000000  \n",
      "max       5.000000  \n",
      "<class 'pandas.core.frame.DataFrame'>\n",
      "Int64Index: 5473 entries, 0 to 5472\n",
      "Data columns (total 11 columns):\n",
      " #   Column    Non-Null Count  Dtype  \n",
      "---  ------    --------------  -----  \n",
      " 0   height    5473 non-null   float64\n",
      " 1   length    5473 non-null   int64  \n",
      " 2   area      5473 non-null   int64  \n",
      " 3   eccen     5473 non-null   float64\n",
      " 4   p_black   5473 non-null   float64\n",
      " 5   p_and     5473 non-null   float64\n",
      " 6   mean_tr   5473 non-null   float64\n",
      " 7   blackpix  5473 non-null   int64  \n",
      " 8   blackand  5473 non-null   float64\n",
      " 9   wb_trans  5473 non-null   float64\n",
      " 10  y         5473 non-null   int64  \n",
      "dtypes: float64(7), int64(4)\n",
      "memory usage: 513.1 KB\n",
      "None\n"
     ]
    }
   ],
   "source": [
    "print(df.describe())\n",
    "print(df.info())"
   ]
  },
  {
   "cell_type": "code",
   "execution_count": 4,
   "id": "5fec90d7",
   "metadata": {},
   "outputs": [
    {
     "data": {
      "text/plain": [
       "text               4913\n",
       "horizontal line     329\n",
       "graphic             115\n",
       "vertical line        88\n",
       "picture              28\n",
       "Name: y, dtype: int64"
      ]
     },
     "execution_count": 4,
     "metadata": {},
     "output_type": "execute_result"
    }
   ],
   "source": [
    "output_dict={1:'text',2:'horizontal line',3:'picture',4:'vertical line',5:'graphic'}\n",
    "df[\"y\"].value_counts().rename(index=output_dict)"
   ]
  },
  {
   "cell_type": "markdown",
   "id": "37d8071d",
   "metadata": {},
   "source": [
    "Here we can observe that the 'text' type is more compared with other classes which needs to be classified. If we predcit all the classes as text we get an accuracy of 89.7% for the above dataset. "
   ]
  },
  {
   "cell_type": "code",
   "execution_count": 5,
   "id": "6692d5b2",
   "metadata": {},
   "outputs": [
    {
     "data": {
      "image/png": "[encoded data removed]",
      "text/plain": [
       "<Figure size 640x480 with 1 Axes>"
      ]
     },
     "metadata": {},
     "output_type": "display_data"
    }
   ],
   "source": [
    "ax=sns.countplot(df['y'])\n",
    "ax.set(xticklabels=output_dict.values())\n",
    "plt.show()"
   ]
  },
  {
   "cell_type": "markdown",
   "id": "ecbe0d0d",
   "metadata": {},
   "source": [
    "## Model Building"
   ]
  },
  {
   "cell_type": "code",
   "execution_count": 6,
   "id": "eef9030d",
   "metadata": {},
   "outputs": [],
   "source": [
    "X=df.iloc[:, :-1]\n",
    "y=df['y']\n",
    "\n",
    "oversampler = RandomOverSampler(random_state=42)\n",
    "X, y = oversampler.fit_resample(X, y)\n",
    "\n",
    "X_train, X_test, y_train, y_test = train_test_split(X, y, test_size=0.2, random_state=42)"
   ]
  },
  {
   "cell_type": "markdown",
   "id": "6635f93a",
   "metadata": {},
   "source": [
    "As the data set is imbalanced, we are performing oversampling on entire data set.\n",
    "Diving the dataset to train and test with 80 an 20 percent ratio"
   ]
  },
  {
   "cell_type": "code",
   "execution_count": 7,
   "id": "c88a44da",
   "metadata": {},
   "outputs": [],
   "source": [
    "# Scale the features using MinMaxScaler\n",
    "scaler = MinMaxScaler()\n",
    "X_train_scaled = scaler.fit_transform(X_train)\n",
    "X_test_scaled = scaler.transform(X_test)"
   ]
  },
  {
   "cell_type": "markdown",
   "id": "2c337821",
   "metadata": {},
   "source": [
    "We are scaling the features for the input dataframe using MinMaxScaler"
   ]
  },
  {
   "cell_type": "code",
   "execution_count": 8,
   "id": "ed78b471",
   "metadata": {},
   "outputs": [
    {
     "data": {
      "text/plain": [
       "3    3945\n",
       "4    3938\n",
       "5    3924\n",
       "1    3923\n",
       "2    3922\n",
       "Name: y, dtype: int64"
      ]
     },
     "execution_count": 8,
     "metadata": {},
     "output_type": "execute_result"
    }
   ],
   "source": [
    "y_train.value_counts()"
   ]
  },
  {
   "cell_type": "markdown",
   "id": "64fb2aa3",
   "metadata": {},
   "source": [
    "Here we can observe there a class imbalance. This can hamper our model accuracy big time. To deal with this problem we can either do oversampling or undersampling. If we do undersampling our train data will be reduced to 90 rows. Which will be very less for model building. Hence we choose oversampling the data."
   ]
  },
  {
   "cell_type": "markdown",
   "id": "2152fbfb",
   "metadata": {},
   "source": [
    "Now we can observe that all classes almost equal no of rows. This is done using RandomOverSampler from the imblearn library."
   ]
  },
  {
   "cell_type": "markdown",
   "id": "db81b1d0",
   "metadata": {},
   "source": [
    "## Hyperparameter Tuning"
   ]
  },
  {
   "cell_type": "code",
   "execution_count": 9,
   "id": "88072a17",
   "metadata": {},
   "outputs": [
    {
     "data": {
      "text/plain": [
       "RandomizedSearchCV(cv=5, estimator=KNeighborsClassifier(),\n",
       "                   param_distributions={'n_neighbors': array([ 3,  5,  7,  9, 11, 13, 15, 17, 19, 21, 23, 25, 27, 29, 31, 33, 35,\n",
       "       37, 39, 41, 43, 45, 47, 49, 51, 53, 55, 57, 59, 61, 63, 65, 67, 69,\n",
       "       71, 73, 75, 77, 79, 81, 83, 85, 87, 89, 91, 93, 95, 97]),\n",
       "                                        'weights': ['uniform', 'distance']},\n",
       "                   random_state=42, refit='f1_macro',\n",
       "                   scoring={'accuracy': make_scorer(accuracy_score),\n",
       "                            'f1_macro': make_scorer(f1_score, average=macro)})"
      ]
     },
     "execution_count": 9,
     "metadata": {},
     "output_type": "execute_result"
    }
   ],
   "source": [
    "knn = KNeighborsClassifier()\n",
    "param_dist = {'n_neighbors': np.arange(3,99,2), 'weights': ['uniform', 'distance']}\n",
    "random_search = RandomizedSearchCV(knn, param_distributions=param_dist, n_iter=10, cv=5, \n",
    "                                   scoring={'accuracy': make_scorer(accuracy_score), \n",
    "                                            'f1_macro': make_scorer(f1_score, average='macro')},\n",
    "                                   refit='f1_macro', random_state=42)\n",
    "\n",
    "random_search.fit(X_train, y_train)"
   ]
  },
  {
   "cell_type": "markdown",
   "id": "e9921380",
   "metadata": {},
   "source": [
    "Performing RandomizedSearchCV on the train data to get the best score and the best parameters which gives the K value. "
   ]
  },
  {
   "cell_type": "code",
   "execution_count": 10,
   "id": "7e0dc7d3",
   "metadata": {},
   "outputs": [
    {
     "name": "stdout",
     "output_type": "stream",
     "text": [
      "The best hyperparameters: {'weights': 'uniform', 'n_neighbors': 3}\n",
      "The best score: 0.9878465760651975\n"
     ]
    }
   ],
   "source": [
    "print(f\"The best hyperparameters: {random_search.best_params_}\")\n",
    "print(f\"The best score: {random_search.best_score_}\")"
   ]
  },
  {
   "cell_type": "markdown",
   "id": "d19aca52",
   "metadata": {},
   "source": [
    "The best score we got for the K value of 3 and the weight is uniform."
   ]
  },
  {
   "cell_type": "markdown",
   "id": "4edfd062",
   "metadata": {},
   "source": [
    "## Model Building"
   ]
  },
  {
   "cell_type": "code",
   "execution_count": 11,
   "id": "3e51335a",
   "metadata": {},
   "outputs": [],
   "source": [
    "knn = KNeighborsClassifier(n_neighbors=random_search.best_params_['n_neighbors'], \n",
    "                            weights=random_search.best_params_['weights'])"
   ]
  },
  {
   "cell_type": "code",
   "execution_count": 12,
   "id": "3dc91f47",
   "metadata": {},
   "outputs": [
    {
     "data": {
      "text/plain": [
       "KNeighborsClassifier(n_neighbors=3)"
      ]
     },
     "execution_count": 12,
     "metadata": {},
     "output_type": "execute_result"
    }
   ],
   "source": [
    "knn.fit(X_train_scaled,y_train)"
   ]
  },
  {
   "cell_type": "code",
   "execution_count": 13,
   "id": "1c106f28",
   "metadata": {},
   "outputs": [],
   "source": [
    "y_pred = knn.predict(X_test_scaled)"
   ]
  },
  {
   "cell_type": "code",
   "execution_count": 14,
   "id": "61b8a1da",
   "metadata": {},
   "outputs": [
    {
     "data": {
      "text/plain": [
       "0.9914512517809893"
      ]
     },
     "execution_count": 14,
     "metadata": {},
     "output_type": "execute_result"
    }
   ],
   "source": [
    "accuracy_score(y_test,y_pred)"
   ]
  },
  {
   "cell_type": "markdown",
   "id": "29e7be36",
   "metadata": {},
   "source": [
    "## Model Evaluation"
   ]
  },
  {
   "cell_type": "code",
   "execution_count": 15,
   "id": "ccedf002",
   "metadata": {},
   "outputs": [
    {
     "data": {
      "text/plain": [
       "array([0.9923703 , 0.98880977, 0.99491094, 0.99185751, 0.98880407,\n",
       "       0.9913486 , 0.98982188, 0.98982188, 0.98524173, 0.99389313])"
      ]
     },
     "execution_count": 15,
     "metadata": {},
     "output_type": "execute_result"
    }
   ],
   "source": [
    "cv_scores = cross_val_score(knn, \n",
    "                            X_train_scaled, \n",
    "                            y_train, \n",
    "                            cv=KFold(n_splits=10, shuffle=True),\n",
    "                            scoring='accuracy')\n",
    "\n",
    "cv_scores"
   ]
  },
  {
   "cell_type": "code",
   "execution_count": 16,
   "id": "4a9c174a",
   "metadata": {},
   "outputs": [
    {
     "name": "stdout",
     "output_type": "stream",
     "text": [
      "Average Accuracy 0.9906879806584714\n",
      "Standard deviation of Accuracy 0.0026641972149606735\n"
     ]
    },
    {
     "data": {
      "image/png": "[encoded data removed]",
      "text/plain": [
       "<Figure size 640x480 with 1 Axes>"
      ]
     },
     "metadata": {},
     "output_type": "display_data"
    }
   ],
   "source": [
    "plt.plot(range(1, 11), cv_scores, marker='o')\n",
    "plt.ylim(0, 1)\n",
    "plt.ylabel('Accuracy score', fontsize=15)\n",
    "plt.xlabel('Fold', fontsize=15)\n",
    "plt.xticks(range(1,11))\n",
    "print(\"Average Accuracy\",cv_scores.mean())\n",
    "print(\"Standard deviation of Accuracy\",cv_scores.std())"
   ]
  },
  {
   "cell_type": "markdown",
   "id": "6c1827cd",
   "metadata": {},
   "source": [
    "## Confusion Matrix"
   ]
  },
  {
   "cell_type": "code",
   "execution_count": 17,
   "id": "a4f04387",
   "metadata": {},
   "outputs": [
    {
     "data": {
      "text/plain": [
       "array([[962,  11,   3,   5,   9],\n",
       "       [  0, 984,   0,   7,   0],\n",
       "       [  0,   0, 968,   0,   0],\n",
       "       [  0,   0,   0, 968,   7],\n",
       "       [  0,   0,   0,   0, 989]])"
      ]
     },
     "execution_count": 17,
     "metadata": {},
     "output_type": "execute_result"
    }
   ],
   "source": [
    "cm=confusion_matrix(y_test, y_pred)\n",
    "cm"
   ]
  },
  {
   "cell_type": "code",
   "execution_count": 18,
   "id": "2e063d96",
   "metadata": {},
   "outputs": [
    {
     "data": {
      "image/png": "[encoded data removed]",
      "text/plain": [
       "<Figure size 800x600 with 2 Axes>"
      ]
     },
     "metadata": {},
     "output_type": "display_data"
    }
   ],
   "source": [
    "plt.figure(figsize = (8,6))\n",
    "\n",
    "sns.heatmap(cm, \n",
    "            annot=True, \n",
    "            cmap=\"Spectral\")\n",
    "plt.xlabel('Predicted', fontsize=15)\n",
    "plt.ylabel('Actual/Observed', fontsize=15);"
   ]
  },
  {
   "cell_type": "markdown",
   "id": "6d22368c",
   "metadata": {},
   "source": [
    "## Classification Report"
   ]
  },
  {
   "cell_type": "code",
   "execution_count": 19,
   "id": "7d447829",
   "metadata": {},
   "outputs": [
    {
     "name": "stdout",
     "output_type": "stream",
     "text": [
      "              precision    recall  f1-score   support\n",
      "\n",
      "           1       1.00      0.97      0.99       990\n",
      "           2       0.99      0.99      0.99       991\n",
      "           3       1.00      1.00      1.00       968\n",
      "           4       0.99      0.99      0.99       975\n",
      "           5       0.98      1.00      0.99       989\n",
      "\n",
      "    accuracy                           0.99      4913\n",
      "   macro avg       0.99      0.99      0.99      4913\n",
      "weighted avg       0.99      0.99      0.99      4913\n",
      "\n"
     ]
    }
   ],
   "source": [
    "print(classification_report(y_test, y_pred))"
   ]
  },
  {
   "cell_type": "code",
   "execution_count": null,
   "id": "005861e9",
   "metadata": {},
   "outputs": [],
   "source": []
  }
 ],
 "metadata": {
  "kernelspec": {
   "display_name": "Python 3 (ipykernel)",
   "language": "python",
   "name": "python3"
  },
  "language_info": {
   "codemirror_mode": {
    "name": "ipython",
    "version": 3
   },
   "file_extension": ".py",
   "mimetype": "text/x-python",
   "name": "python",
   "nbconvert_exporter": "python",
   "pygments_lexer": "ipython3",
   "version": "3.9.13"
  }
 },
 "nbformat": 4,
 "nbformat_minor": 5
}
